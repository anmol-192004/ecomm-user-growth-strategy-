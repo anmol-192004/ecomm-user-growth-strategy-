{
 "cells": [
  {
   "cell_type": "code",
   "execution_count": null,
   "id": "39e371a7-6f6d-4432-9ffb-28dddb432b06",
   "metadata": {},
   "outputs": [],
   "source": [
    "# Step 1: Import Required Libraries\n",
    "import pandas as pd\n",
    "import numpy as np\n",
    "import random\n",
    "\n",
    "# Step 2: Set random seed (for reproducibility)\n",
    "np.random.seed(42)\n",
    "\n",
    "# Step 3: Define sample Tier 2/3 cities\n",
    "tier2_3_cities = ['Agra', 'Udaipur', 'Patna', 'Kanpur', 'Guwahati', 'Nagpur', 'Kochi', 'Varanasi', 'Raipur', 'Jodhpur']\n",
    "\n",
    "# Step 4: Create fake user data\n",
    "num_users = 1000\n",
    "user_ids = [f\"U{i:04d}\" for i in range(1, num_users+1)]\n",
    "cities = np.random.choice(tier2_3_cities, size=num_users)\n",
    "ages = np.random.randint(18, 50, size=num_users)\n",
    "genders = np.random.choice(['Male', 'Female'], size=num_users)\n",
    "\n",
    "# Randomly assign A/B groups\n",
    "groups = np.random.choice(['A', 'B'], size=num_users)\n",
    "\n",
    "# Step 5: Simulate number of orders per user\n",
    "orders = np.random.poisson(lam=2.5, size=num_users)  # average 2.5 orders per user\n",
    "\n",
    "# Step 6: Simulate average order value\n",
    "# Group A has standard AOV, Group B has higher AOV due to personalization\n",
    "aov_base = np.where(groups == 'A',\n",
    "                    np.random.normal(120, 25, size=num_users),   # Group A\n",
    "                    np.random.normal(150, 30, size=num_users))   # Group B (improved recommendations)\n",
    "\n",
    "# Step 7: Calculate total spend per user\n",
    "total_spend = orders * aov_base\n",
    "engaged = np.where(orders > 0, 1, 0)  # whether user placed any order\n",
    "\n",
    "# Step 8: Create DataFrame\n",
    "data = pd.DataFrame({\n",
    "    'UserID': user_ids,\n",
    "    'City': cities,\n",
    "    'Age': ages,\n",
    "    'Gender': genders,\n",
    "    'Group': groups,\n",
    "    'Orders': orders,\n",
    "    'AvgOrderValue': aov_base.round(2),\n",
    "    'TotalSpend': total_spend.round(2),\n",
    "    'Engaged': engaged\n",
    "})\n",
    "\n",
    "# Step 9: Preview the first few rows\n",
    "data.head()\n"
   ]
  }
 ],
 "metadata": {
  "kernelspec": {
   "display_name": "Python 3 (ipykernel)",
   "language": "python",
   "name": "python3"
  },
  "language_info": {
   "codemirror_mode": {
    "name": "ipython",
    "version": 3
   },
   "file_extension": ".py",
   "mimetype": "text/x-python",
   "name": "python",
   "nbconvert_exporter": "python",
   "pygments_lexer": "ipython3",
   "version": "3.11.7"
  }
 },
 "nbformat": 4,
 "nbformat_minor": 5
}
